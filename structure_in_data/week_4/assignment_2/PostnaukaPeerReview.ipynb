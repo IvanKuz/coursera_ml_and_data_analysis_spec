{
 "cells": [
  {
   "cell_type": "markdown",
   "metadata": {},
   "source": [
    "# Тематическая модель [Постнауки](http://postnauka.ru)\n",
    "## Peer Review (optional)"
   ]
  },
  {
   "cell_type": "markdown",
   "metadata": {},
   "source": [
    "В этом задании мы применим аппарат тематического моделирования к коллекции текстовых записей видеолекций, скачанных с сайта Постнаука. Мы будем визуализировать модель и создавать прототип тематического навигатора по коллекции. В коллекции 1728 документов, размер словаря - 38467 слов. Слова лемматизированы, то есть приведены к начальной форме, с помощью программы [mystem](https://tech.yandex.ru/mystem/), коллекция сохранена в [формате vowpal wabbit](http://docs.bigartm.org/en/latest/formats.html). В каждой строке до первой черты записана информация о документе (ссылка на страницу с лекцией), после первой черты следует описание документа. Используются две модальности - текстовая (\"text\") и модальность авторов (\"author\"); у каждого документа один автор."
   ]
  },
  {
   "cell_type": "markdown",
   "metadata": {},
   "source": [
    "Для выполнения задания понадобится библиотека [BigARTM](http://docs.bigartm.org). В демонстрации показан пример использования библиотеки версии 0.7.4, на сайте предлагается скачивать версию 0.8.0. В новой версии изменены принципы работы со словарями: они вынесены в отдельный класс (пример в [Release Notes](http://docs.bigartm.org/en/stable/release_notes/python.html)). Строить модель и извлекать ее параметры нужно так же, как показано в демонстрации. Вы можете использовать [предыдущий релиз](http://bigartm.readthedocs.io/en/v0.7.6/download.html) или [новый релиз](http://docs.bigartm.org/en/latest/download.html) на ваше усмотрение.\n",
    "\n",
    "Спецификации всех функций вы можете смотреть на странице [Python API](http://bigartm.readthedocs.io/en/stable/python_interface.html)."
   ]
  },
  {
   "cell_type": "code",
   "execution_count": 1,
   "metadata": {
    "collapsed": true
   },
   "outputs": [],
   "source": [
    "import artm"
   ]
  },
  {
   "cell_type": "code",
   "execution_count": 2,
   "metadata": {
    "collapsed": true
   },
   "outputs": [],
   "source": [
    "from matplotlib import pyplot as plt\n",
    "import seaborn\n",
    "%matplotlib inline\n",
    "seaborn.set_style(\"whitegrid\", {'axes.grid' : False})"
   ]
  },
  {
   "cell_type": "code",
   "execution_count": 3,
   "metadata": {
    "collapsed": true
   },
   "outputs": [],
   "source": [
    "import numpy as np\n",
    "import pandas as pd"
   ]
  },
  {
   "cell_type": "markdown",
   "metadata": {},
   "source": [
    "##### Считывание данных"
   ]
  },
  {
   "cell_type": "markdown",
   "metadata": {},
   "source": [
    "Создайте объект класса artm.BatchVectorizer, который будет ссылаться на директорию с пакетами данных (батчами). Чтобы библиотека могла преобразовать текстовый файл в батчи, создайте пустую директорию и укажите ее название в параметре target_folder. Размер батча для небольших коллекций (как наша) не важен, вы можете указать любой."
   ]
  },
  {
   "cell_type": "code",
   "execution_count": 4,
   "metadata": {
    "collapsed": false
   },
   "outputs": [
    {
     "name": "stdout",
     "output_type": "stream",
     "text": [
      "mkdir: batches: File exists\r\n"
     ]
    }
   ],
   "source": [
    "! mkdir batches"
   ]
  },
  {
   "cell_type": "code",
   "execution_count": 19,
   "metadata": {
    "collapsed": false
   },
   "outputs": [
    {
     "ename": "TypeError",
     "evalue": "__init__() got an unexpected keyword argument 'cache_theta'",
     "output_type": "error",
     "traceback": [
      "\u001b[0;31m---------------------------------------------------------------------------\u001b[0m",
      "\u001b[0;31mTypeError\u001b[0m                                 Traceback (most recent call last)",
      "\u001b[0;32m<ipython-input-19-b62511de3852>\u001b[0m in \u001b[0;36m<module>\u001b[0;34m()\u001b[0m\n\u001b[1;32m      3\u001b[0m \u001b[0mos\u001b[0m\u001b[0;34m.\u001b[0m\u001b[0menviron\u001b[0m\u001b[0;34m[\u001b[0m\u001b[0;34m'ARTM_SHARED_LIBRARY'\u001b[0m\u001b[0;34m]\u001b[0m\u001b[0;34m=\u001b[0m\u001b[0;34m'/users/miptgirl/bigartm/build/src/artm/libartm.dylib'\u001b[0m\u001b[0;34m\u001b[0m\u001b[0m\n\u001b[1;32m      4\u001b[0m batch_vectorizer = artm.BatchVectorizer(data_path=\"lectures.txt\", data_format=\"vowpal_wabbit\", \n\u001b[0;32m----> 5\u001b[0;31m                                         target_folder=\"batches\", batch_size=100, reuse_theta=True, cache_theta=True)\n\u001b[0m",
      "\u001b[0;31mTypeError\u001b[0m: __init__() got an unexpected keyword argument 'cache_theta'"
     ]
    }
   ],
   "source": [
    "# Ваш код\n",
    "import os\n",
    "os.environ['ARTM_SHARED_LIBRARY']='/users/miptgirl/bigartm/build/src/artm/libartm.dylib'\n",
    "batch_vectorizer = artm.BatchVectorizer(data_path=\"lectures.txt\", data_format=\"vowpal_wabbit\", \n",
    "                                        target_folder=\"batches\", batch_size=100)"
   ]
  },
  {
   "cell_type": "markdown",
   "metadata": {},
   "source": [
    "##### Инициализация модели"
   ]
  },
  {
   "cell_type": "markdown",
   "metadata": {},
   "source": [
    "Создайте объект класса artm.Model с 30 темами, именами тем, указанными ниже и единичными весами обеих модальностей. Количество тем выбрано не очень большим, чтобы вам было удобнее работать с темами. На этой коллекции можно строить и большее число тем, тогда они будут более узко специализированы."
   ]
  },
  {
   "cell_type": "code",
   "execution_count": 20,
   "metadata": {
    "collapsed": true
   },
   "outputs": [],
   "source": [
    "T = 30   # количество тем\n",
    "topic_names=[\"sbj\"+str(i) for i in range(T-1)]+[\"bcg\"]\n",
    "# Ваш код\n",
    "model_artm = artm.ARTM(num_topics=T, topic_names=topic_names, class_ids={\"text\":1, 'author':1}, seed = 1,\n",
    "                      reuse_theta=True, cache_theta=True)"
   ]
  },
  {
   "cell_type": "markdown",
   "metadata": {},
   "source": [
    "Мы будем строить 29 предметных тем и одну фоновую. \n",
    "\n",
    "Соберите словарь с помощью метода gather_dictionary и инициализируйте модель, указав random_seed=1. Обязательно укажите свое название словаря, оно понадобится при добавлении регуляризаторов."
   ]
  },
  {
   "cell_type": "code",
   "execution_count": 21,
   "metadata": {
    "collapsed": true
   },
   "outputs": [],
   "source": [
    "# Ваш код\n",
    "dictionary = artm.Dictionary('dictionary')\n",
    "dictionary.gather(batch_vectorizer.data_path)\n",
    "model_artm.initialize('dictionary')"
   ]
  },
  {
   "cell_type": "markdown",
   "metadata": {},
   "source": [
    "##### Добавление score"
   ]
  },
  {
   "cell_type": "markdown",
   "metadata": {},
   "source": [
    "Создайте два измерителя качества artm.TopTokensScore - по одному для каждой модальности; количество токенов 15. Названия для score придумайте самостоятельно."
   ]
  },
  {
   "cell_type": "code",
   "execution_count": 22,
   "metadata": {
    "collapsed": true
   },
   "outputs": [],
   "source": [
    "# Ваш код\n",
    "model_artm.scores.add(artm.TopTokensScore(name=\"top_words\", num_tokens=15, class_id=\"text\"))\n",
    "model_artm.scores.add(artm.TopTokensScore(name=\"top_authors\", num_tokens=15, class_id=\"author\"))"
   ]
  },
  {
   "cell_type": "markdown",
   "metadata": {},
   "source": [
    "##### Построение модели"
   ]
  },
  {
   "cell_type": "markdown",
   "metadata": {},
   "source": [
    "Мы будем строить модель в два этапа: сначала добавим сглаживающий регуляризатор фоновой темы и настроим параметры модели, затем - добавим разреживающий регуляризатор предметрых тем и выполним еще несколько итераций. Так мы сможем получить наиболее чистые от фоновых слов предметные темы. Сглаживающий и разреживающий регуляризаторы задаются одним и тем же классом artm.SmoothSparsePhiRegularizer: если коэффициент tau положительный, то регуляризатор будет сглаживающий, если отрицательный - разреживающий.\n",
    "\n",
    "Если вы хотите подробнее разобраться, как выполняется регуляризация тематической модели в BigARTM, вы можете прочитать [статью](https://s3-eu-west-1.amazonaws.com/artm/voron-potap14artm-rus.pdf), раздел 4."
   ]
  },
  {
   "cell_type": "markdown",
   "metadata": {},
   "source": [
    "Добавьте сглаживающий регуляризатор с коэффициентом tau = 1e5, указав название своего словаря в dictionary, модальность текста в class_ids и тему \"bcg\" в topic_names."
   ]
  },
  {
   "cell_type": "code",
   "execution_count": 23,
   "metadata": {
    "collapsed": false
   },
   "outputs": [],
   "source": [
    "# Ваш коt\n",
    "model_artm.regularizers.add(artm.SmoothSparsePhiRegularizer(name='SmoothPhi', tau=1e5, dictionary='dictionary', \n",
    "                            class_ids = ['text'], topic_names = ['bcg']))"
   ]
  },
  {
   "cell_type": "markdown",
   "metadata": {},
   "source": [
    "Выполните 30 итераций по коллекции (num_collection_passes), количество внутренних итераций установите равным 1. Используйте метод fit_offline модели."
   ]
  },
  {
   "cell_type": "code",
   "execution_count": 24,
   "metadata": {
    "collapsed": true
   },
   "outputs": [],
   "source": [
    "# Ваш код\n",
    "model_artm.fit_offline(batch_vectorizer=batch_vectorizer, num_collection_passes=30)"
   ]
  },
  {
   "cell_type": "markdown",
   "metadata": {},
   "source": [
    "Добавьте разреживающий регуляризатор с коэффициентом tau=-1e5, указав название своего словаря, модальность текста в class_ids и все темы \"sbjX\" в topic_names."
   ]
  },
  {
   "cell_type": "code",
   "execution_count": 25,
   "metadata": {
    "collapsed": true
   },
   "outputs": [],
   "source": [
    "# Ваш код\n",
    "reg_topic_names=[\"sbj\"+str(i) for i in range(T-1)]\n",
    "model_artm.regularizers.add(artm.SmoothSparsePhiRegularizer(name='SparsePhi', tau=-1e5, dictionary='dictionary', \n",
    "                            class_ids = ['text'], topic_names = reg_topic_names))"
   ]
  },
  {
   "cell_type": "markdown",
   "metadata": {},
   "source": [
    "Выполните еще 15 проходов по коллекции."
   ]
  },
  {
   "cell_type": "code",
   "execution_count": 26,
   "metadata": {
    "collapsed": true
   },
   "outputs": [],
   "source": [
    "# Ваш код\n",
    "model_artm.fit_offline(batch_vectorizer=batch_vectorizer, num_collection_passes=15)"
   ]
  },
  {
   "cell_type": "markdown",
   "metadata": {},
   "source": [
    "##### Интерпретация тем"
   ]
  },
  {
   "cell_type": "markdown",
   "metadata": {},
   "source": [
    "Используя созданные score, выведите топы слов и топы авторов в темах. Удобнее всего выводить топ слов каждой темы с новой строки, указывая название темы в начале строки, и аналогично с авторами."
   ]
  },
  {
   "cell_type": "code",
   "execution_count": 27,
   "metadata": {
    "collapsed": false
   },
   "outputs": [
    {
     "name": "stdout",
     "output_type": "stream",
     "text": [
      "sbj0: \n",
      "частица теория взаимодействие физика кварк энергия модель симметрия три элементарный нейтрино стандартный состоять масса материя Дмитрий_Казаков Михаил_Данилов Валерий_Рубаков Виктор_Брагута Павел_Пахлов Игорь_Волобуев Алексей_Старобинский Александр_Беленький Лев_Дудко Сергей_Троицкий Эдуард_Боос Анатолий_Лиходед Лев_Беклемишев Сергей_Майоров Илья_Щуров\n",
      "sbj1: \n",
      "материал структура при температура получать свойство химический высокий вещество соединение метод элемент химия использовать применение Артем_Оганов Валерий_Фокин Дмитрий_Паращук Валентин_Ненайденко Дмитрий_Гольберг Владимир_Пудалов Иван_Сорокин Евгений_Гудилин Валентин_Крапошин Пётр_Образцов Алексей_Хохлов Евгений_Антипов Сергей_Морозов Владимир_Комлев Алексей_Кавокин\n",
      "sbj2: \n",
      "политический государство власть царь закон правитель партия церковь александр сага платон император шмитт американский враг Кирилл_Мартынов Александр_Марей Алексей_Юдин Александр_Филиппов Александр_Павлов Михаил_Бойцов Иван_Ладынин Фёдор_Успенский Дина_Гусейнова Руслан_Хестанов Ольга_Тогоева Александр_Воеводский Дмитрий_Баюк Александр_Аузан Дэвид_Вайнберг\n",
      "sbj3: \n",
      "мир объект знание мышление предмет познание научный социологический описание объяснять логика естественный признак воспринимать язык Виктор_Вахштайн Андрей_Кибрик Григорий_Крейдлин Максим_Демин Татьяна_Клячко Ян_Левченко Гасан_Гусейнов Зоя_Зорина Алексей_Котов Борис_Миркин Дмитрий_Баюк Дмитрий_Балалыкин Максим_Кронгауз Алексей_Шмелев Анатолий_Баранов\n",
      "sbj4: \n",
      "слово текст значение словарь речь предложение глагол корпус скажем конструкция читать чтение лингвистика бывать русский Владимир_Спиридонов Александр_Пиперски Владимир_Плунгян Борис_Иомдин Надежда_Онипенко Мария_Майофис Дмитрий_Добровольский Анатолий_Баранов Светлана_Евграфова Вера_Подлесская Екатерина_Протасова Екатерина_Лютикова Наталья_Спасская Михаил_Алексеевский Ольга_Сварник\n",
      "sbj5: \n",
      "миф бог древний греческий мифология герой представление море грек картина мифологический предок шумерский происхождение существо Гасан_Гусейнов Кирилл_Еськов Владимир_Емельянов Андрей_Иванцов Андрей_Журавлев Аскольд_Иванчик Григорий_Бондаренко Николай_Дронин Александр_Воеводский Ольга_Тогоева Олег_Ауров Ян_Левченко Владимир_Петрухин Алексей_Козырев Елена_Гороховская\n",
      "sbj6: \n",
      "русский перевод гласный говор андрей пьеса апостол метро древнерусский иван письмо написать произносить путешествие книжный Илья_Иткин Борис_Морозов Игорь_Исаев Алексей_Бартошевич Леонид_Иомдин Илья_Виньковецкий Павел_Руднев Андрей_Кибрик Алина_Бодрова Владимир_Кантор Александр_Пиперски Павел_Нерлер_(Полян) Анастасия_Лопухина Вера_Мильчина Александр_Ватлин\n",
      "sbj7: \n",
      "трудность раса праздник вариант африка рост глаз шаман представитель участник америка монголоид станислав дробышевский нос Станислав_Дробышевский Михаил_Пантелеев Александр_Поддьяков Екатерина_Ларионова Елена_Браун Валентина_Харитонова Григорий_Юдин Мария_Медникова Дмитрий_Жуков Марк_Харрисон Михаил_Алексеевский Мэтью_Басс Дмитрий_Беляев Александр_Воеводский Андрей_Летаров\n",
      "sbj8: \n",
      "право вещь римский правовой юрист должник сон собственность обязательство юридический владение собственник исполнение кредитор имущество Дмитрий_Дождев Александр_Марей Сергей_Неклюдов Татьяна_Бобровникова Денис_Новак Дмитрий_Полдников Фёдор_Успенский Гасан_Гусейнов Владимир_Ковальзон Павел_Нерлер_(Полян) Андрей_Чабовский Виктор_Задков Михаил_Полуэктов Алексей_Шмелев ПостНаука\n",
      "sbj9: \n",
      "заболевание пациент болезнь лечение врач боль медицина препарат медицинский операция фактор иммунный нарушение озеро диагностика Егор_Задереев Ярослав_Ашихмин Алексей_Алексеев Вера_Ижевская Сергей_Румянцев Юрий_Яшков Олег_Медведев Александр_Васильев Светлана_Боринская Алексей_Чжао Денис_Сивков Эмери_Браун Павел_Умрюхин Леонид_Марголис Александр_Петренко\n",
      "sbj10: \n",
      "мозг животное робот нейрон растение организм условие микроорганизм нервный биологический рецептор эволюция активность среда метан Елизавета_Бонч-Осмоловская Филипп_Хайтович Алла_Ножевникова Дмитрий_Лось Дмитрий_Громов Николай_Пименов Александр_Каплан Александр_Марков Юлия_Краус Светлана_Дедыш Сергей_Наугольных Сергей_Саложин Сергей_Киселев Андрей_Цатурян Виктор_Цетлин\n",
      "sbj11: \n",
      "память процесс восприятие информация когнитивный опыт психология психолог зрительный внимание сознание эмоциональный суть запоминать феномен Мария_Фаликман Кирилл_Титаев Константин_Анохин Павел_Балабан Игорь_Уточкин Мира_Бергельсон Максим_Таланов Рафаэль_Арутюнян Алексей_Созинов Ольга_Сварник Виктор_Мурогов Виталий_Дунин-Барковский Максим_Киселев Евгений_Николаев Ноам_Хомский\n",
      "sbj12: \n",
      "война германия после русский империя русь великий святой западный военный немецкий князь российский польский византийский Илья_Женин Фёдор_Успенский Кирилл_Кочегаров Игорь_Данилевский Алексей_Миллер Елена_Уханова Сергей_Серёгичев Александр_Лаврентьев Ольга_Эдельман Владимир_Петрухин Екатерина_Лямина Андрей_Кофман Александр_Дмитриев Ахмет_Ярлыкапов Алексей_Киличенков\n",
      "sbj13: \n",
      "наука какой новый рассказывать проблема исследование история жизнь современный развитие социальный общество город понятие отношение Виталий_Куренной ПостНаука Виктор_Вахштайн Елена_Брызгалина Дмитрий_Рогозин Владимир_Малахов Павел_Руднев Михаил_Маяцкий Ольга_Малинова Александр_Гофман Ольга_Артёмова Александр_Жаворонков Андрей_Зорин Павел_Уваров Сергей_Афонцев\n",
      "sbj14: \n",
      "галактика планета большой земля черный объект дыра звезда видеть масса находиться газ атмосфера диск примерно Сергей_Попов Алексей_Расторгуев Ольга_Сильченко Дмитрий_Вибе Владимир_Сурдин Дмитрий_Титов Владимир_Кузнецов Анатолий_Засов Наталья_Новикова Роман_Рафиков Александр_Шацкий Александр_Слободкин Сергей_Писарев Андрей_Глазовский Зоригто_Намсараев\n",
      "sbj15: \n",
      "решение модель экономический экономика оценка принимать качество компания деньги выбор выбирать принятие разработка ресурс информация Фуад_Алескеров Алексей_Белянин Алексей_Кондрашов Владимир_Гимпельсон Сергей_Бобылев Александр_Тормасов Антон_Суворов Ксения_Паниди Мануэль_Маццара Александр_Аузан Татьяна_Клячко Василий_Ключарев Сезар_Идальго Андрей_Чабовский Джу_Йонг_Ли\n",
      "sbj16: \n",
      "человек ребенок делать ситуация что-то роль действие поведение женщина социальный думать семья собственный эмоция вести Михаил_Соколов Катерина_Поливанова Мария_Падун Наталья_Харламенкова Ольга_Исупова Ольга_Гулевич Наталья_Кисельникова Татьяна_Ребеко Александр_Войскунский Татьяна_Котова Максим_Киселев Махзарин_Банаджи Александр_Филиппов Арсений_Хитров Зоя_Зорина\n",
      "sbj17: \n",
      "задача данные сеть решать компьютер число программа функция анализ алгоритм компьютерный ошибка интеллект сложность компонент Михаил_Бурцев Илья_Шкредов Ольга_Брилева Станислав_Протасов Дмитрий_Ветров Александр_Сафонов Александр_Жданов Леонард_Полищук Даниэль_Сельва Станислав_Клименко Александр_Дьяконов Макс_Тегмарк Григорий_Кабатянский Михаил_Киселев Николай_Мощевитин\n",
      "sbj18: \n",
      "территория период письменность древний китай китайский регион северный народ памятник население империя центр азия европа Дмитрий_Беляев Марк_Ульянов Георгий_Старостин Алексей_Лебедев Анна_Дыбо Дмитрий_Худяков Сергей_Арутюнов Галина_Зеленина Алексей_Малашенко Наталья_Зубаревич Евгений_Рогожин Андрей_Лукашов Андрей_Виноградов Леонид_Григорьев Павел_Плечов\n",
      "sbj19: \n",
      "клетка ген днк белок организм молекула генетический метод геном рнк биологический мутация бактерия молекулярный последовательность Евгений_Шеваль Константин_Северинов Максим_Франк-Каменецкий Михаил_Гельфанд Антон_Буздин Сергей_Киселев Петр_Федичев Виталий_Кушниров Сергей_Науменко Андрей_Летаров Иван_Воробьев Александр_Апт Георгий_Базыкин Роман_Ефремов Евгений_Куликов\n",
      "sbj20: \n",
      "квантовый поле магнитный свет состояние волна эффект создавать атом электрон фотон уровень технология явление информация Алексей_Акимов Владимир_Белотелов Алексей_Рубцов Михаил_Киселев Владимир_Шалаев Руслан_Смелянский Сергей_Демокритов Юджин_Ползик Андрей_Савельев-Трофимов Алексей_Желтиков Владимир_Мележик Наталья_Берлофф Александр_Львовский Иван_Луковников Кит_Моффат\n",
      "sbj21: \n",
      "культура философия книга идея философский литература текст философ писать принцип автор литературный эпоха написать мысль Алексей_Козырев Иван_Болдырев Сергей_Неклюдов Олег_Лекманов Александр_Доброхотов Дина_Гусейнова Ольга_Вайнштейн Михаил_Алексеевский Мария_Неклюдова Наталья_Ростиславлева Александра_Архипова Алексей_Руткевич Владимир_Миронов Сергей_Зенкин Петр_Резвых\n",
      "sbj22: \n",
      "революция власть французский король страна франция сталин реформа государственный петр террор диктатура смерть крестьянин против Олег_Хлевнюк Дмитрий_Бовыкин Кирилл_Соловьев Александр_Марей Павел_Уваров Олег_Мельник Игорь_Курукин Алина_Бодрова Ольга_Вайнштейн Михаил_Алексеевский Дмитрий_Дагаев Мохамад_Кассаб Борис_Колоницкий Екатерина_Лямина Ольга_Эдельман\n",
      "sbj23: \n",
      "советский россия война мировой союз песня самка обряд самец эмиграция большевик птица ссср местный армия Ирина_Бёме Анна_Соколова Олег_Будницкий Василий_Жарков Александр_Каменский Борис_Колоницкий Илья_Кукулин Варвара_Веденина Людмила_Новикова Вера_Мильчина Михаил_Бойцов Михаил_Маяцкий Эдуард_Пройдаков Марк_Харрисон Архат_Абжанов\n",
      "sbj24: \n",
      "язык христианский традиция христианство восток культура христианин цивилизация английский филологический языковой арабский знаменитый согласный носитель Алексей_Муравьёв Владимир_Плунгян Олег_Воскобойников Кирилл_Бабаев Мария_Штейнман Владимир_Беликов Светлана_Бурлак Нина_Сумбатова Петр_Аркадьев Варвара_Добровольская Игорь_Исаев Олег_Ауров Алексей_Шмелев Ирина_Левонтина Анна_Рогожина\n",
      "sbj25: \n",
      "система пространство описывать общий движение математический параметр матрица уравнение математика механика двигаться относительность теоретический эйнштейн Эмиль_Ахмедов Алексей_Семихатов Иван_Оселедец Андрей_Лосев Инга_Полетаева Илья_Щуров Борис_Миркин Павел_Лушников Владимир_Редько Михаил_Фейгельман Игорь_Петров Владимир_Каганский Сергей_Нечаев Сергей_Ландо Елена_Гороховская\n",
      "sbj26: \n",
      "внимание костюм рука ощущение воображение скелет порнография термоэлектрический актер сочетание долг чувствительность фильтр сексуальность эротический Раиса_Кирсанова Сергей_Пекарский Мария_Фаликман Ян_Левченко Жанна_Резникова Андрей_Шевельков Денис_Загарин Андрей_Журавлев Николай_Дронин Григорий_Крейдлин Игорь_Чубаров Светлана_Евграфова Махзарин_Банаджи Алексей_Чжао Виктор_Полтерович\n",
      "sbj27: \n",
      "звезда вселенная излучение энергия белый нейтронный вещество карлик источник гравитационный открывать рентгеновский небо сверхновый реликтовый Анатолий_Засов Сергей_Попов Михаил_Ревнивцев Валерий_Сулейманов Дмитрий_Горбунов Олег_Верходанов Виктория_Битюкова Александр_Потехин Антон_Бирюков Сергей_Блинников Андрей_Цатурян Кирилл_Зыбин Мел_Сигел Уолтер_Льюин Сергей_Шишкин\n",
      "sbj28: \n",
      "фильм ученый кино кинематограф свобода культовый профессор климат академия бердяев тема актер диссертация вечный снимать Александр_Павлов Ивар_Максутов Светлана_Баньковская Павел_Соколов Николай_Плотников Елена_Вишленкова Татьяна_Смоктунович Елизавета_Ривкина Александр_Кислов Михаил_Эпштейн Екатерина_Щербакова Владимир_Каганский Николай_Дронин Герберт_Хупперт Александр_Шварцбург\n",
      "bcg: \n",
      "быть что это который этот как они такой мочь очень человек для или тот один Алексей_Маслов Виктор_Цетлин Николай_Дронин Владимир_Плунгян Алексей_Миллер Елена_Уханова Светлана_Боринская Илья_Шкредов Виктор_Авдеев Михаил_Ревнивцев Дмитрий_Вибе Мария_Неклюдова Михаил_Маяцкий Андрей_Кибрик Евгений_Магид\n"
     ]
    }
   ],
   "source": [
    "# Ваш код\n",
    "for topic_name in model_artm.topic_names:\n",
    "    print topic_name + ': \\n',\n",
    "    tokens = model_artm.score_tracker[\"top_words\"].last_tokens\n",
    "    for word in tokens[topic_name]:    \n",
    "        print word,\n",
    "    tokens = model_artm.score_tracker[\"top_authors\"].last_tokens\n",
    "    for author in tokens[topic_name]:    \n",
    "        print author,\n",
    "    print"
   ]
  },
  {
   "cell_type": "markdown",
   "metadata": {},
   "source": [
    "В последней теме \"bcg\" должны находиться общеупотребительные слова.\n",
    "\n",
    "Важный шаг в работе с тематической моделью, когда речь идет о визуализации или создании тематического навигатора, это именование тем. Понять, о чем каждая тема, можно по списку ее топовых слов. Например, тему\n",
    "    \n",
    "    частица взаимодействие физика кварк симметрия элементарный нейтрино стандартный материя протон бозон заряд масса ускоритель слабый\n",
    "    \n",
    "можно назвать \"Физика элементарных частиц\". \n",
    "\n",
    "Дайте названия 29 предметным темам. Если вы не знаете, как назвать тему, назовите ее первым встретившимся в ней существительным, хотя при таком подходе навигатор будет менее информативным. Из названий тем составьте список из 29 строк и запишите  его в переменную sbj_topic_labels. В переменной topic_labels будут храниться названия всех тем, включая фоновую."
   ]
  },
  {
   "cell_type": "code",
   "execution_count": 28,
   "metadata": {
    "collapsed": true
   },
   "outputs": [],
   "source": [
    "sbj_topic_labels = [\n",
    "    'Физика элементарных частиц', 'Химия', 'Политическое устройство', 'Социология',\n",
    "    'Мозг и мышление', 'Мифология', 'Лингвистика', 'Расы',\n",
    "    'Право', 'Медицина', 'Биология', 'Психология',\n",
    "    'История', 'Обществознание', 'Космос', 'Экономика',\n",
    "    'Психология семьи', 'IT', 'История письменности', 'Молекулярная биология',\n",
    "    'Физика частиц', 'Литература и философия', 'История', 'История',\n",
    "    'История религий', 'Математика', 'Театр', 'Физика космоса','Кинематограф'\n",
    "]   # запишите названия тем в список\n",
    "topic_labels = sbj_topic_labels + [\"Фоновая тема\"]"
   ]
  },
  {
   "cell_type": "markdown",
   "metadata": {},
   "source": [
    "##### Анализ тем"
   ]
  },
  {
   "cell_type": "markdown",
   "metadata": {},
   "source": [
    "Далее мы будем работать с распределениями тем в документах (матрица $\\Theta$) и авторов в темах (одна из двух матриц $\\Phi$, соответствующая модальности авторов). \n",
    "Создайте переменные, содержащие две этих матрицы, с помощью методов get_phi и get_theta модели. Назовите переменные theta и phi_a. Выведите формы обеих матриц, чтобы понять, по каким осям стоят темы."
   ]
  },
  {
   "cell_type": "code",
   "execution_count": 34,
   "metadata": {
    "collapsed": false
   },
   "outputs": [],
   "source": [
    "model_artm.theta_columns_naming = \"title\" # включает именование столбцов Theta их названиями-ссылками, а не внутренними id \n",
    "# Ваш код\n",
    "phi = model_artm.get_phi(class_ids = ['author'])\n",
    "theta = model_artm.get_theta()"
   ]
  },
  {
   "cell_type": "markdown",
   "metadata": {},
   "source": [
    "Визуализируем фрагмент матрицы $\\Theta$ - первые 100 документов (это наиболее простой способ визуально оценить, как темы распределяются в документах). С помощью метода seaborn.heatmap выведите фрагмент theta как изображение. Рекомендация: создайте фигуру pyplot размера (20, 10)."
   ]
  },
  {
   "cell_type": "code",
   "execution_count": 42,
   "metadata": {
    "collapsed": false
   },
   "outputs": [
    {
     "data": {
      "text/plain": [
       "<matplotlib.axes._subplots.AxesSubplot at 0x121e72bd0>"
      ]
     },
     "execution_count": 42,
     "metadata": {},
     "output_type": "execute_result"
    },
    {
     "data": {
      "image/png": "[encoded data removed]",
      "text/plain": [
       "<matplotlib.figure.Figure at 0x121e72d90>"
      ]
     },
     "metadata": {},
     "output_type": "display_data"
    }
   ],
   "source": [
    "# Ваш код\n",
    "seaborn.heatmap(theta.T[:10])"
   ]
  },
  {
   "cell_type": "markdown",
   "metadata": {},
   "source": [
    "Вы должны увидеть, что фоновая тема имеет большую вероятность в почти каждом документе, и это логично. Кроме того, есть еще одна тема, которая чаще других встречается в документах. Судя по всему, это тема содержит много слов по науку в целом, а каждый документ (видео) в нашей коллекции связан с наукой. Можно (необязательно) дать этой теме название \"Наука\".\n",
    "\n",
    "Помимо этих двух тем, фоновой и общенаучной, каждый документ характеризуется малым числом других тем."
   ]
  },
  {
   "cell_type": "markdown",
   "metadata": {},
   "source": [
    "Оценим $p(t)$ - долю каждой темы во всей коллекции. По формуле полной вероятности вычислять эти величины нужно как\n",
    "$p(t) = \\sum_d p(t|d) p(d)$. Согласно вероятностной модели, $p(d)$ пропорционально длине документа d. Поступим проще: будем полагать, что все документы равновероятны. Тогда оценить $p(t)$ можно, просуммировав $p(t|d)$ по всем документам, а затем разделив полученный вектор на его сумму. \n",
    "\n",
    "Создайте переменную-датафрейм с T строками, индексированными названиями тем, и 1 столбцом, содержащим оценки $p(t)$. Выведите датафрейм на печать."
   ]
  },
  {
   "cell_type": "code",
   "execution_count": null,
   "metadata": {
    "collapsed": true
   },
   "outputs": [],
   "source": [
    "# Ваш код\n"
   ]
  },
  {
   "cell_type": "markdown",
   "metadata": {},
   "source": [
    "Найдите 5 самых распространенных и 3 наименее освещенных темы в коллекции (наибольшие и наименьшие $p(t)$ соответственно), не считая фоновую и общенаучную. Укажите названия, которые вы дали этим темам."
   ]
  },
  {
   "cell_type": "raw",
   "metadata": {},
   "source": [
    "Ваш ответ:\n",
    "5 тем с max p(t):\n",
    "3 темы с min p(t):"
   ]
  },
  {
   "cell_type": "markdown",
   "metadata": {},
   "source": [
    "Визуализируйте матрицу $\\Phi$ модальности авторов в виде изображения. Рекомендация: установите yticklabels=False в heatmap."
   ]
  },
  {
   "cell_type": "code",
   "execution_count": null,
   "metadata": {
    "collapsed": true
   },
   "outputs": [],
   "source": [
    "# Ваш код\n"
   ]
  },
  {
   "cell_type": "markdown",
   "metadata": {},
   "source": [
    "Каждой теме соответствует не очень большое число авторов - матрица достаточно разреженная. Кроме того, некоторые темы имеют доминирующего автора $a$, имеющего большую вероятность $p(a|t)$ - этот автор записал больше всего лекций по теме. "
   ]
  },
  {
   "cell_type": "markdown",
   "metadata": {},
   "source": [
    "Будем считать, что автор $a$ значим в теме, если $p(a|t) > 0.01$. Для каждого автора посчитайте, в скольких темах он значим. Найдите авторов-рекордсменов, которые значимы (а значит, читали лекции) в >= 3 темах."
   ]
  },
  {
   "cell_type": "raw",
   "metadata": {},
   "source": [
    "Ваш ответ:\n",
    "авторы, значимые в не менее чем 3 темах:"
   ]
  },
  {
   "cell_type": "markdown",
   "metadata": {},
   "source": [
    "Большинство авторов значимы в 1 теме, что логично."
   ]
  },
  {
   "cell_type": "markdown",
   "metadata": {},
   "source": [
    "##### Построение тематической карты авторов"
   ]
  },
  {
   "cell_type": "markdown",
   "metadata": {},
   "source": [
    "По сути, в матрице $\\Phi$, соответствующей модальности авторов, записаны тематические кластеры авторов. Для любого автора мы можем составить его тематический круг - авторов, разбирающихся в той же теме, что и данный. Интересующиеся слушатели могут попробовать выполнить эту процедуру для ученых, читающих лекции на Постнауке, которых они знают (например, на Постнауке есть лекции с К. В. Воронцовым - лектором текущего модуля :)\n",
    "\n",
    "Составим карту близости авторов по тематике их исследований. Для этого применим метод понижения размерности MDS к тематическим профилям авторов.\n",
    "\n",
    "Чтобы получить тематический профиль автора, распределение $p(t|a)$, нужно воспользоваться формулой Байеса: \n",
    "$p(t|a) = \\frac {p(a|t) p(t)} {\\sum_t' p(a|t') p(t')}$. Все необходимые для этого величины у вас есть и записаны в переменных phi и pt. \n",
    "\n",
    "Передайте матрицу тематических профилей авторов, записанных по строкам, в метод MDS с n_components=2. Используйте косинусную метрику (она хорошо подходит для поиска расстояний между векторами, имеющими фиксированную сумму компонент)."
   ]
  },
  {
   "cell_type": "code",
   "execution_count": null,
   "metadata": {
    "collapsed": true
   },
   "outputs": [],
   "source": [
    "from sklearn.manifold import MDS\n",
    "from sklearn.metrics import pairwise_distances"
   ]
  },
  {
   "cell_type": "code",
   "execution_count": null,
   "metadata": {
    "collapsed": true
   },
   "outputs": [],
   "source": [
    "# Ваш код\n"
   ]
  },
  {
   "cell_type": "markdown",
   "metadata": {},
   "source": [
    "Визуализируйте найденные двумерные представления с помощью функции scatter. "
   ]
  },
  {
   "cell_type": "code",
   "execution_count": null,
   "metadata": {
    "collapsed": true
   },
   "outputs": [],
   "source": [
    "# Ваш код\n"
   ]
  },
  {
   "cell_type": "markdown",
   "metadata": {},
   "source": [
    "Должно получиться, что некоторые грппы авторов формируют сгустки, которые можно считать тематическими группами авторов.\n",
    "\n",
    "Раскрасим точки следующим образом: для каждого автора выберем наиболее вероятную для него тему ($\\max_t p(t|a)$), и каждой теме сопоставим цвет. Кроме того, добавим на карту имена и фамилии авторов, это можно сделать в цикле по всем точкам с помощью функции plt.annotate, указывая метку точки первым аргументом и ее координаты в аргументе xy. Рекомендуется сделать размер изображения большим, тогда маркеры точек тоже придется увеличить (s=100 в plt.scatter). Изобразите карту авторов и сохраните в pdf-файл с помощью функции plt.savefig. \n",
    "\n",
    "Метки авторов будут пересекаться. Будет очень хорошо, если вы найдете способ, как этого можно избежать."
   ]
  },
  {
   "cell_type": "code",
   "execution_count": null,
   "metadata": {
    "collapsed": true
   },
   "outputs": [],
   "source": [
    "import matplotlib.cm as cm\n",
    "colors = cm.rainbow(np.linspace(0, 1, T)) # цвета для тем\n",
    "# Ваш код\n"
   ]
  },
  {
   "cell_type": "markdown",
   "metadata": {},
   "source": [
    "##### Создание простого тематического навигатора по Постнауке"
   ]
  },
  {
   "cell_type": "markdown",
   "metadata": {},
   "source": [
    "Наш тематический навигатор будет для каждой темы показывать ее список слов, а также список релевантных теме документов. \n",
    "\n",
    "Нам понадобятся распределения $p(d|t)$. По формуле Байеса $p(d|t) = \\frac{p(t|d)p(d)}{\\sum_{d'}p(t|d')p(d')}$, но поскольку мы считаем документы равновероятными, достаточно разделить каждую строку $\\Theta$ на ее сумму, чтобы оценить распределение. \n",
    "\n",
    "Отсортируйте матрицу $p(d|t)$ по убыванию $p(d|t)$ в каждой теме (то есть построчно). Нам понадобятся индексы наиболее вероятных документов в каждой теме, поэтому используйте функцию argmax."
   ]
  },
  {
   "cell_type": "code",
   "execution_count": null,
   "metadata": {
    "collapsed": true
   },
   "outputs": [],
   "source": [
    "# Ваш код\n"
   ]
  },
  {
   "cell_type": "markdown",
   "metadata": {},
   "source": [
    "Создавать навигатор мы будем прямо в jupiter notebook: это возможно благодаря тому факту, что при печати ссылки она автоматически превращается в гиперссылку."
   ]
  },
  {
   "cell_type": "code",
   "execution_count": null,
   "metadata": {
    "collapsed": false
   },
   "outputs": [],
   "source": [
    "print \"http://yandex.ru\"   # получится кликабельная ссылка"
   ]
  },
  {
   "cell_type": "markdown",
   "metadata": {},
   "source": [
    "Кроме того, подключив модуль [ipython.core.display](https://ipython.org/ipython-doc/2/api/generated/IPython.core.display.html), можно использовать html-разметку в выводе. Например:"
   ]
  },
  {
   "cell_type": "code",
   "execution_count": 1,
   "metadata": {
    "collapsed": false
   },
   "outputs": [
    {
     "data": {
      "text/html": [
       "<h1>Заголовок</h1>"
      ],
      "text/plain": [
       "<IPython.core.display.HTML object>"
      ]
     },
     "metadata": {},
     "output_type": "display_data"
    },
    {
     "data": {
      "text/html": [
       "<ul><li>Пункт 1</li><li>Пункт 2</li></ul>"
      ],
      "text/plain": [
       "<IPython.core.display.HTML object>"
      ]
     },
     "metadata": {},
     "output_type": "display_data"
    },
    {
     "data": {
      "text/html": [
       "<font color=\"green\">Зеленый!</font>"
      ],
      "text/plain": [
       "<IPython.core.display.HTML object>"
      ]
     },
     "metadata": {},
     "output_type": "display_data"
    },
    {
     "data": {
      "text/html": [
       "<a href=\"http://yandex.ru\">Еще один вариант вывода ссылки</a>"
      ],
      "text/plain": [
       "<IPython.core.display.HTML object>"
      ]
     },
     "metadata": {},
     "output_type": "display_data"
    }
   ],
   "source": [
    "from IPython.core.display import display, HTML\n",
    "display(HTML(u\"<h1>Заголовок</h1>\"))   # также <h2>, <h3>\n",
    "display(HTML(u\"<ul><li>Пункт 1</li><li>Пункт 2</li></ul>\"))\n",
    "display(HTML(u'<font color=\"green\">Зеленый!</font>'))\n",
    "display(HTML(u'<a href=\"http://yandex.ru\">Еще один вариант вывода ссылки</a>'))"
   ]
  },
  {
   "cell_type": "markdown",
   "metadata": {},
   "source": [
    "В цикле для каждой темы выведите ее заголовок, в следующей строке - топ-10 слов темы, затем в виде списка ссылки на 10 наиболее релевантных (по $p(d|t)$) теме документов. Используйте html-разметку. Творчество приветствуется :)"
   ]
  },
  {
   "cell_type": "code",
   "execution_count": null,
   "metadata": {
    "collapsed": true
   },
   "outputs": [],
   "source": [
    "# Ваш код\n"
   ]
  },
  {
   "cell_type": "markdown",
   "metadata": {},
   "source": [
    "##### Заключение"
   ]
  },
  {
   "cell_type": "markdown",
   "metadata": {},
   "source": [
    "В этом Peer Review мы познакомились с базовыми возможностями библиотеки BigARTM и с методами визуализации тематических моделей. Визуализация тематических моделей - это широкая и активно развивающаяся область научных исследований. Мы рассмотрели только самые простые приемы. Желающие могут попробовать применить [Serendip](http://vep.cs.wisc.edu/serendip/#serendipHero), разработанный в  University of Wisconsin-Madison, к построенной модели. Эта библиотека позволяет максимально полно охарактеризовать темы и написана для языка python. \n",
    "\n",
    "Сделав задание, вы можете выбрать в навигаторе наиболее интересную для вас тему и посмотреть видеолекции :) На Постнауке очень много интересных материалов. "
   ]
  }
 ],
 "metadata": {
  "kernelspec": {
   "display_name": "Python 2",
   "language": "python",
   "name": "python2"
  },
  "language_info": {
   "codemirror_mode": {
    "name": "ipython",
    "version": 2
   },
   "file_extension": ".py",
   "mimetype": "text/x-python",
   "name": "python",
   "nbconvert_exporter": "python",
   "pygments_lexer": "ipython2",
   "version": "2.7.11"
  }
 },
 "nbformat": 4,
 "nbformat_minor": 0
}
